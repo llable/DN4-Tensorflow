{
 "cells": [
  {
   "cell_type": "markdown",
   "metadata": {
    "colab": {},
    "colab_type": "code",
    "id": "ayg6HwR8dxYW"
   },
   "source": [
    "# Default CSV Loader\n",
    "> [Original paper code](https://github.com/WenbinLee/DN4/tree/master/dataset)"
   ]
  },
  {
   "cell_type": "code",
   "execution_count": null,
   "metadata": {
    "collapsed": true
   },
   "outputs": [],
   "source": [
    "from google.colab import drive"
   ]
  },
  {
   "cell_type": "code",
   "execution_count": 4,
   "metadata": {
    "colab": {
     "base_uri": "https://localhost:8080/",
     "height": 123
    },
    "colab_type": "code",
    "collapsed": false,
    "id": "WofWfaOad0z9",
    "outputId": "df275efe-d9a2-49d1-e264-3798cb0ee662"
   },
   "outputs": [
    {
     "name": "stdout",
     "output_type": "stream",
     "text": [
      "Go to this URL in a browser: https://accounts.google.com/o/oauth2/auth?client_id=947318989803-6bn6qk8qdgf4n4g3pfee6491hc0brc4i.apps.googleusercontent.com&redirect_uri=urn%3Aietf%3Awg%3Aoauth%3A2.0%3Aoob&scope=email%20https%3A%2F%2Fwww.googleapis.com%2Fauth%2Fdocs.test%20https%3A%2F%2Fwww.googleapis.com%2Fauth%2Fdrive%20https%3A%2F%2Fwww.googleapis.com%2Fauth%2Fdrive.photos.readonly%20https%3A%2F%2Fwww.googleapis.com%2Fauth%2Fpeopleapi.readonly&response_type=code\n",
      "\n",
      "Enter your authorization code:\n",
      "··········\n",
      "Mounted at /content/drive\n"
     ]
    }
   ],
   "source": [
    "import os\n",
    "if not os.path.exists('/content/drive'):\n",
    "  drive.mount('/content/drive')"
   ]
  },
  {
   "cell_type": "code",
   "execution_count": 0,
   "metadata": {
    "colab": {},
    "colab_type": "code",
    "collapsed": true,
    "id": "G1ZQaQ2Lqo8B"
   },
   "outputs": [],
   "source": [
    "from PIL import Image\n",
    "import IPython.display as display\n",
    "import numpy as np\n",
    "import os\n",
    "import os.path as path\n",
    "import json\n",
    "import random\n",
    "import pdb\n",
    "import csv"
   ]
  },
  {
   "cell_type": "markdown",
   "metadata": {
    "colab_type": "text",
    "id": "pV-vPzmSFcVg"
   },
   "source": [
    "Pytorch를 제외한 import"
   ]
  },
  {
   "cell_type": "code",
   "execution_count": 0,
   "metadata": {
    "colab": {},
    "colab_type": "code",
    "collapsed": true,
    "id": "sMqktw6TFkAR"
   },
   "outputs": [],
   "source": [
    "def pil_loader(path):\n",
    "\t# File로서 열고 img로 재 open하는 이유: avoid ResourceWarning (https://github.com/python-pillow/Pillow/issues/835)\n",
    "\twith open(path, 'rb') as file:\n",
    "\t\twith Image.open(file) as img:\n",
    "      # Q. RGB/Grey 모드로 통일할지, RGB, P, L모드를 혼합할지 고민.. (P mode 장점: 용량절약, 단점: 표현한계)\n",
    "\t\t\treturn img.convert('RGB')"
   ]
  },
  {
   "cell_type": "code",
   "execution_count": 0,
   "metadata": {
    "colab": {},
    "colab_type": "code",
    "collapsed": true,
    "id": "1N_-RBpiFnlo"
   },
   "outputs": [],
   "source": [
    "def gray_loader(path):\n",
    "  # 파일 내용 읽기\n",
    "\twith open(path, 'rb') as file:\n",
    "\t\twith Image.open(file) as img:\n",
    "      # Q. 기존 코드를 보면 P mode로 되어있던데.. L 아닌가요? L이 싱글모드로 알고있어서.. \n",
    "\t\t\treturn img.convert('L')"
   ]
  },
  {
   "cell_type": "code",
   "execution_count": 0,
   "metadata": {
    "colab": {},
    "colab_type": "code",
    "collapsed": true,
    "id": "_tzGMKolFpNW"
   },
   "outputs": [],
   "source": [
    "# Default loader\n",
    "# Q. accimage를 대체할만한 속도 부스터 loader가 있을까요?\n",
    "def default_loader(path):\n",
    "    return pil_loader(path)"
   ]
  },
  {
   "cell_type": "code",
   "execution_count": 0,
   "metadata": {
    "colab": {},
    "colab_type": "code",
    "collapsed": true,
    "id": "0wJyYEeFFrRk"
   },
   "outputs": [],
   "source": [
    "def find_classes(dir):\n",
    "\t\tclasses = [d for d in os.listdir(dir) if os.path.isdir(os.path.join(dir, d))]\n",
    "\t\tclasses.sort()\n",
    "\t\tclass_to_idx = {classes[i]: i for i in range(len(classes))}\n",
    "\n",
    "\t\treturn classes, class_to_idx"
   ]
  },
  {
   "cell_type": "code",
   "execution_count": 0,
   "metadata": {
    "colab": {},
    "colab_type": "code",
    "collapsed": true,
    "id": "UfMMdo_7JpE5"
   },
   "outputs": [],
   "source": [
    "def train_mode():\n",
    "  # store all the classes and images into a dict\n",
    "    store_dict(train_csv)"
   ]
  },
  {
   "cell_type": "code",
   "execution_count": 0,
   "metadata": {
    "colab": {},
    "colab_type": "code",
    "collapsed": true,
    "id": "nY-hPjtfJ7Jb"
   },
   "outputs": [],
   "source": [
    "def val_mode():\n",
    "  # store all the classes and images into a dict\n",
    "    store_dict(val_csv)"
   ]
  },
  {
   "cell_type": "code",
   "execution_count": 0,
   "metadata": {
    "colab": {},
    "colab_type": "code",
    "collapsed": true,
    "id": "jn4xRwfiJ82c"
   },
   "outputs": [],
   "source": [
    "def test_mode():\n",
    "  # store all the classes and images into a dict\n",
    "    store_dict(test_csv)"
   ]
  },
  {
   "cell_type": "code",
   "execution_count": 0,
   "metadata": {
    "colab": {},
    "colab_type": "code",
    "collapsed": true,
    "id": "Bmj_XYB-UUye"
   },
   "outputs": [],
   "source": [
    "def store_dict(csv_path):\n",
    "  with open(csv_path) as f_csv:\n",
    "\t\t\t\tfile = csv.reader(f_csv, delimiter=',')\n",
    "\t\t\t\tfor row in file:\n",
    "\t\t\t\t\tif file.line_num == 1:\n",
    "\t\t\t\t\t\tcontinue\n",
    "\t\t\t\t\timg_name, img_class = row\n",
    "\n",
    "\t\t\t\t\tif img_class in class_img_dict:\n",
    "\t\t\t\t\t\tclass_img_dict[img_class].append(img_name)\n",
    "\t\t\t\t\telse:\n",
    "\t\t\t\t\t\tclass_img_dict[img_class]=[]\n",
    "\t\t\t\t\t\tclass_img_dict[img_class].append(img_name)\n",
    "  f_csv.close()\n",
    "  class_list = class_img_dict.keys()\n",
    "  \n",
    "  while e < episode_num:   # setting the episode number to 600\n",
    "\n",
    "\t\t\t\t# construct each episode\n",
    "\t\t\t\tepisode = []\n",
    "\t\t\t\te += 1\n",
    "\t\t\t\ttemp_list = random.sample(class_list, way_num)\n",
    "\t\t\t\tlabel_num = -1\n",
    "\n",
    "\t\t\t\tfor item in temp_list:\n",
    "\t\t\t\t\tlabel_num += 1\n",
    "\t\t\t\t\timgs_set = class_img_dict[item]\n",
    "\t\t\t\t\tsupport_imgs = random.sample(imgs_set, shot_num)\n",
    "\t\t\t\t\tquery_imgs = [val for val in imgs_set if val not in support_imgs]\n",
    "\n",
    "\t\t\t\t\tif query_num<len(query_imgs):\n",
    "\t\t\t\t\t\tquery_imgs = random.sample(query_imgs, query_num)\n",
    "\n",
    "\n",
    "\t\t\t\t\t# the dir of support set\n",
    "\t\t\t\t\tquery_dir = [path.join(data_dir, 'images', i) for i in query_imgs]\n",
    "\t\t\t\t\tsupport_dir = [path.join(data_dir, 'images', i) for i in support_imgs]\n",
    "\n",
    "\n",
    "\t\t\t\t\tdata_files = {\n",
    "\t\t\t\t\t\t\"query_img\": query_dir,\n",
    "\t\t\t\t\t\t\"support_set\": support_dir,\n",
    "\t\t\t\t\t\t\"target\": label_num\n",
    "\t\t\t\t\t}\n",
    "\t\t\t\t\tepisode.append(data_files)\n",
    "\t\t\t\tdata_list.append(episode) "
   ]
  },
  {
   "cell_type": "code",
   "execution_count": 0,
   "metadata": {
    "colab": {},
    "colab_type": "code",
    "collapsed": true,
    "id": "w4GM_qYFFu5C"
   },
   "outputs": [],
   "source": [
    "class Imagefolder_csv(object):\n",
    "  \"\"\"\n",
    "  Imagefolder for miniImageNet--ravi, StanfordDog, StanfordCar and CubBird datasets.\n",
    "  Images are stored in the folder of \"images\";\n",
    "  Indexes are stored in the CSV files.\n",
    "  \"\"\"\n",
    "  def __init__(self, data_dir=\"\", mode=\"train\", image_size=84, data_name=\"miniImageNet\", transform=None, loader=default_loader, gray_loader=gray_loader, episode_num=1000, way_num=5, shot_num=5, query_num=5):\n",
    "    super(Imagefolder_csv, self).__init__()\n",
    "    # set the paths of the csv files\n",
    "    train_csv = os.path.join(data_dir, 'train.csv')\n",
    "    val_csv = os.path.join(data_dir, 'val.csv')\n",
    "    test_csv = os.path.join(data_dir, 'test.csv')\n",
    "    \n",
    "    data_list = []\n",
    "    e = 0\n",
    "    if mode == \"train\":\n",
    "      train_mode()\n",
    "    elif mode == \"val\":\n",
    "      val_mode()\n",
    "    else:\n",
    "      test_mode()\n",
    "\n",
    "    self.data_list = data_list\n",
    "    self.image_size = image_size\n",
    "    self.transform = transform\n",
    "    self.loader = loader\n",
    "    self.gray_loader = gray_loader\n",
    "\n",
    "  def __len__(self):\n",
    "    return len(self.data_list)\n",
    "\n",
    "  def __getitem__(self, index):\n",
    "    '''\n",
    "      Load an episode each time, including C-way K-shot and Q-query           \n",
    "    '''\n",
    "    image_size = self.image_size\n",
    "    episode_files = self.data_list[index]\n",
    "  \n",
    "    query_images = []\n",
    "    query_targets = []\n",
    "    support_images = []\n",
    "    support_targets = []\n",
    "  \n",
    "    for i in range(len(episode_files)):\n",
    "      data_files = episode_files[i]\n",
    "  \n",
    "      # load query images\n",
    "      query_dir = data_files['query_img']\n",
    "\n",
    "      for j in range(len(query_dir)):\n",
    "        temp_img = self.loader(query_dir[j])\n",
    "\n",
    "        # Normalization\n",
    "        if self.transform is not None:\n",
    "          temp_img = self.transform(temp_img)\n",
    "        query_images.append(temp_img)\n",
    "\n",
    "      # load support images\n",
    "      temp_support = []\n",
    "      support_dir = data_files['support_set']\n",
    "      for j in range(len(support_dir)): \n",
    "        temp_img = self.loader(support_dir[j])\n",
    "\n",
    "        # Normalization\n",
    "        if self.transform is not None:\n",
    "          temp_img = self.transform(temp_img)\n",
    "        temp_support.append(temp_img)\n",
    "\n",
    "      support_images.append(temp_support)\n",
    "\n",
    "      # read the label\n",
    "      target = data_files['target']\n",
    "      query_targets.extend(np.tile(target, len(query_dir)))\n",
    "      support_targets.extend(np.tile(target, len(support_dir)))\n",
    "          \n",
    "    return (query_images, query_targets, support_images, support_targets)"
   ]
  },
  {
   "cell_type": "code",
   "execution_count": 0,
   "metadata": {
    "colab": {},
    "colab_type": "code",
    "collapsed": true,
    "id": "Hb0_UjEPFz91"
   },
   "outputs": [],
   "source": []
  }
 ],
 "metadata": {
  "accelerator": "GPU",
  "anaconda-cloud": {},
  "colab": {
   "collapsed_sections": [],
   "name": "DefaultLoader.ipynb",
   "provenance": []
  },
  "kernelspec": {
   "display_name": "Python [default]",
   "language": "python",
   "name": "python3"
  },
  "language_info": {
   "codemirror_mode": {
    "name": "ipython",
    "version": 3
   },
   "file_extension": ".py",
   "mimetype": "text/x-python",
   "name": "python",
   "nbconvert_exporter": "python",
   "pygments_lexer": "ipython3",
   "version": "3.5.2"
  }
 },
 "nbformat": 4,
 "nbformat_minor": 0
}
